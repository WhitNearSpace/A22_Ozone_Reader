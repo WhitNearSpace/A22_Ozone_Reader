{
 "cells": [
  {
   "cell_type": "code",
   "execution_count": 13,
   "metadata": {},
   "outputs": [],
   "source": [
    "!pip install pyserial pandas matplotlib 1> nul"
   ]
  },
  {
   "cell_type": "code",
   "execution_count": 5,
   "metadata": {},
   "outputs": [],
   "source": [
    "import serial\n",
    "import serial.tools.list_ports\n",
    "from time import sleep\n",
    "import pandas as pd\n",
    "import matplotlib.pyplot as plt"
   ]
  },
  {
   "cell_type": "markdown",
   "metadata": {},
   "source": [
    "# Defining the function that will collect the data.\n",
    "\n",
    "## Inputs\n",
    "`duration` - a _pandas_ `Timedelta` object specifying the total time to collect data\n",
    "`dt` - a _pandas_ `Timedelta` object specifying the time between data points\n",
    "\n",
    "## Output\n",
    "A _pandas_ `DataFrame` with a column of timestamps and a column of ozone concentrations (in ppb)\n",
    "\n",
    "## What it does\n",
    "1. Search for the attached A-22. It should show up as a COM port that has `USB Serial Device` as part of its description.\n",
    "2. If a valid COM port is found, attempt to connect to it.\n",
    "3. Get the current time and calculate the end time by adding `duration` to it.\n",
    "4. While the current time is less than the end time:\n",
    "    * Get a reading from the A-22\n",
    "    * Append the current time and the ozone reading to the appropriate list\n",
    "    * Sleep until it is time to collect the next data point\n",
    "5. Transform the lists into a `DataFrame`"
   ]
  },
  {
   "cell_type": "code",
   "execution_count": 6,
   "metadata": {},
   "outputs": [],
   "source": [
    "def get_ozone_data(duration, dt):\n",
    "  A22_COM = None\n",
    "  for port in serial.tools.list_ports.comports():\n",
    "    if 'USB Serial Device' in port.description:\n",
    "      A22_COM = port.name\n",
    "  if A22_COM:\n",
    "    ser = serial.Serial(A22_COM)\n",
    "  else:\n",
    "    print('Failed to detect port')\n",
    "    return None\n",
    "  t_list = []\n",
    "  O3_list = []\n",
    "  t = pd.Timestamp.now()\n",
    "  tf = t + duration\n",
    "  while t < tf:\n",
    "    data = int(ser.readline())\n",
    "    t_list.append(t)\n",
    "    O3_list.append(data)\n",
    "    sleep(dt.seconds)\n",
    "    t = pd.Timestamp.now()\n",
    "  df = pd.DataFrame(data={'Time': t_list, 'O3 (ppb)': O3_list})\n",
    "  ser.close()\n",
    "  return df"
   ]
  },
  {
   "cell_type": "markdown",
   "metadata": {},
   "source": [
    "# Collect the data"
   ]
  },
  {
   "cell_type": "markdown",
   "metadata": {},
   "source": [
    "Adjust the `duration` and `dt` variables. Then run the cell to gather data. The output is a _pandas_ `DataFrame` object."
   ]
  },
  {
   "cell_type": "code",
   "execution_count": 4,
   "metadata": {},
   "outputs": [
    {
     "name": "stdout",
     "output_type": "stream",
     "text": [
      "Connected:  True\n"
     ]
    }
   ],
   "source": [
    "duration = pd.Timedelta(1,'minute')\n",
    "dt = pd.Timedelta(5,'seconds')\n",
    "df = get_ozone_data(duration, dt)"
   ]
  },
  {
   "cell_type": "markdown",
   "metadata": {},
   "source": [
    "# Display the table"
   ]
  },
  {
   "cell_type": "code",
   "execution_count": 7,
   "metadata": {},
   "outputs": [
    {
     "data": {
      "text/html": [
       "<div>\n",
       "<style scoped>\n",
       "    .dataframe tbody tr th:only-of-type {\n",
       "        vertical-align: middle;\n",
       "    }\n",
       "\n",
       "    .dataframe tbody tr th {\n",
       "        vertical-align: top;\n",
       "    }\n",
       "\n",
       "    .dataframe thead th {\n",
       "        text-align: right;\n",
       "    }\n",
       "</style>\n",
       "<table border=\"1\" class=\"dataframe\">\n",
       "  <thead>\n",
       "    <tr style=\"text-align: right;\">\n",
       "      <th></th>\n",
       "      <th>Time</th>\n",
       "      <th>O3 (ppb)</th>\n",
       "    </tr>\n",
       "  </thead>\n",
       "  <tbody>\n",
       "    <tr>\n",
       "      <th>0</th>\n",
       "      <td>2022-03-03 13:55:58.918329</td>\n",
       "      <td>0</td>\n",
       "    </tr>\n",
       "    <tr>\n",
       "      <th>1</th>\n",
       "      <td>2022-03-03 13:56:04.272050</td>\n",
       "      <td>0</td>\n",
       "    </tr>\n",
       "    <tr>\n",
       "      <th>2</th>\n",
       "      <td>2022-03-03 13:56:09.272930</td>\n",
       "      <td>0</td>\n",
       "    </tr>\n",
       "    <tr>\n",
       "      <th>3</th>\n",
       "      <td>2022-03-03 13:56:14.273498</td>\n",
       "      <td>0</td>\n",
       "    </tr>\n",
       "    <tr>\n",
       "      <th>4</th>\n",
       "      <td>2022-03-03 13:56:19.274052</td>\n",
       "      <td>0</td>\n",
       "    </tr>\n",
       "    <tr>\n",
       "      <th>5</th>\n",
       "      <td>2022-03-03 13:56:24.274205</td>\n",
       "      <td>0</td>\n",
       "    </tr>\n",
       "    <tr>\n",
       "      <th>6</th>\n",
       "      <td>2022-03-03 13:56:29.274714</td>\n",
       "      <td>0</td>\n",
       "    </tr>\n",
       "    <tr>\n",
       "      <th>7</th>\n",
       "      <td>2022-03-03 13:56:34.274856</td>\n",
       "      <td>0</td>\n",
       "    </tr>\n",
       "    <tr>\n",
       "      <th>8</th>\n",
       "      <td>2022-03-03 13:56:39.275926</td>\n",
       "      <td>0</td>\n",
       "    </tr>\n",
       "    <tr>\n",
       "      <th>9</th>\n",
       "      <td>2022-03-03 13:56:44.277065</td>\n",
       "      <td>0</td>\n",
       "    </tr>\n",
       "    <tr>\n",
       "      <th>10</th>\n",
       "      <td>2022-03-03 13:56:49.277434</td>\n",
       "      <td>0</td>\n",
       "    </tr>\n",
       "    <tr>\n",
       "      <th>11</th>\n",
       "      <td>2022-03-03 13:56:54.278235</td>\n",
       "      <td>0</td>\n",
       "    </tr>\n",
       "  </tbody>\n",
       "</table>\n",
       "</div>"
      ],
      "text/plain": [
       "                         Time  O3 (ppb)\n",
       "0  2022-03-03 13:55:58.918329         0\n",
       "1  2022-03-03 13:56:04.272050         0\n",
       "2  2022-03-03 13:56:09.272930         0\n",
       "3  2022-03-03 13:56:14.273498         0\n",
       "4  2022-03-03 13:56:19.274052         0\n",
       "5  2022-03-03 13:56:24.274205         0\n",
       "6  2022-03-03 13:56:29.274714         0\n",
       "7  2022-03-03 13:56:34.274856         0\n",
       "8  2022-03-03 13:56:39.275926         0\n",
       "9  2022-03-03 13:56:44.277065         0\n",
       "10 2022-03-03 13:56:49.277434         0\n",
       "11 2022-03-03 13:56:54.278235         0"
      ]
     },
     "execution_count": 7,
     "metadata": {},
     "output_type": "execute_result"
    }
   ],
   "source": [
    "df"
   ]
  },
  {
   "cell_type": "markdown",
   "metadata": {},
   "source": [
    "# Plot the data"
   ]
  },
  {
   "cell_type": "code",
   "execution_count": 9,
   "metadata": {},
   "outputs": [
    {
     "data": {
      "image/png": "[encoded data removed]",
      "text/plain": [
       "<Figure size 432x288 with 1 Axes>"
      ]
     },
     "metadata": {
      "needs_background": "light"
     },
     "output_type": "display_data"
    }
   ],
   "source": [
    "fig, ax = plt.subplots()\n",
    "ax.plot(df['Time'],df['O3 (ppb)'],'o')\n",
    "ax.set_xlabel(\"Time\")\n",
    "ax.set_ylabel(r\"$\\mathrm{O}_3$ (ppb)\");"
   ]
  },
  {
   "cell_type": "markdown",
   "metadata": {},
   "source": [
    "## Save the plot"
   ]
  },
  {
   "cell_type": "code",
   "execution_count": 10,
   "metadata": {},
   "outputs": [],
   "source": [
    "fig.savefig('ozone_vs_time.png')"
   ]
  },
  {
   "cell_type": "markdown",
   "metadata": {},
   "source": [
    "# Save the data"
   ]
  },
  {
   "cell_type": "markdown",
   "metadata": {},
   "source": [
    "Save the `DataFrame` to a comma-separated-value file."
   ]
  },
  {
   "cell_type": "code",
   "execution_count": 11,
   "metadata": {},
   "outputs": [],
   "source": [
    "df.to_csv('ozone_data.csv')"
   ]
  }
 ],
 "metadata": {
  "interpreter": {
   "hash": "391dbeded46e3e505a72307c982b5080433a33cd711c1b09a010306e364e12d9"
  },
  "kernelspec": {
   "display_name": "Python 3.8.5 ('base')",
   "language": "python",
   "name": "python3"
  },
  "language_info": {
   "codemirror_mode": {
    "name": "ipython",
    "version": 3
   },
   "file_extension": ".py",
   "mimetype": "text/x-python",
   "name": "python",
   "nbconvert_exporter": "python",
   "pygments_lexer": "ipython3",
   "version": "3.8.5"
  },
  "orig_nbformat": 4
 },
 "nbformat": 4,
 "nbformat_minor": 2
}
